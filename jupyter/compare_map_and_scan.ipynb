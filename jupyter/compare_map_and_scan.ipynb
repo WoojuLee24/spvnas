{
 "cells": [
  {
   "cell_type": "code",
   "execution_count": 26,
   "id": "4c2fa94e",
   "metadata": {},
   "outputs": [],
   "source": [
    "import os\n",
    "import numpy as np\n",
    "import shutil\n",
    "import open3d as o3d"
   ]
  },
  {
   "cell_type": "code",
   "execution_count": 27,
   "id": "414c8fac",
   "metadata": {},
   "outputs": [],
   "source": [
    "def read_pc(path):\n",
    "    with open(path, 'r') as f:\n",
    "        lines = f.readlines()\n",
    "    points = []\n",
    "    for line in lines[11:]:\n",
    "        values = [float(v) for v in line.strip().split()]\n",
    "        points.append(values)\n",
    "    points = np.asarray(points)\n",
    "\n",
    "    return points\n",
    "\n",
    "def get_pose(path):\n",
    "    with open(path, 'r') as f:\n",
    "        lines = f.readlines()\n",
    "    poses = []\n",
    "    for line in lines:\n",
    "        values = [float(v) for v in line.strip().split()]\n",
    "        poses.append(values)\n",
    "\n",
    "    return poses"
   ]
  },
  {
   "cell_type": "code",
   "execution_count": 28,
   "id": "e1fbc9ee",
   "metadata": {},
   "outputs": [],
   "source": [
    "seqs = ['scenario2', 'scenario3', 'scenario5', 'scenario6', 'scenario8']\n",
    "root_path = \"/ws/data/erasor_carla/carla_dataset/\"\n",
    "debug_path = \"/ws/data/erasor_carla/carla_dataset/debug/\"\n",
    "seq = \"scenario2\"\n"
   ]
  },
  {
   "cell_type": "code",
   "execution_count": 29,
   "id": "20474dc5",
   "metadata": {},
   "outputs": [],
   "source": [
    "# ### change the file name of the carla_dataset ###\n",
    "# for seq in seqs:\n",
    "#     file_dir = os.path.join(root_path, \"testing_data\", seq, \"local/scan/\")\n",
    "#     filename_list = os.listdir(file_dir)\n",
    "#     for filename in filename_list:\n",
    "#         orig_path = os.path.join(file_dir, filename)\n",
    "#         print(orig_path)\n",
    "#         new_filename = str(filename[:-4].zfill(6))+\".pcd\"\n",
    "#         new_path = os.path.join(file_dir, new_filename)\n",
    "#         print(new_path)\n",
    "#         os.rename(orig_path, new_path)\n",
    "    \n"
   ]
  },
  {
   "cell_type": "code",
   "execution_count": 49,
   "id": "93b2aef9",
   "metadata": {},
   "outputs": [
    {
     "name": "stdout",
     "output_type": "stream",
     "text": [
      "/ws/data/erasor_carla/carla_dataset/debug/map_000020.pcd\n",
      "map_data shape:  (3597868, 4)\n",
      "map_points shape:  (2745469, 3)\n",
      "scan_data shape:  (126206, 4)\n",
      "scan_points shape:  (126206, 3)\n",
      "/ws/data/erasor_carla/carla_dataset/debug/map_000021.pcd\n",
      "map_data shape:  (3597868, 4)\n",
      "map_points shape:  (2745501, 3)\n",
      "scan_data shape:  (126185, 4)\n",
      "scan_points shape:  (126185, 3)\n"
     ]
    }
   ],
   "source": [
    "seq = \"scenario2\"\n",
    "scan_dir = os.path.join(root_path, \"testing_data\", seq, \"global/scan/\")\n",
    "odom_path = os.path.join(root_path, \"testing_data\", seq, \"odom/scan/odometry.txt\")\n",
    "map_path = os.path.join(root_path, \"testing_map/v0.1\", seq, \"map.pcd\")\n",
    "odoms = get_pose(odom_path)\n",
    "\n",
    "scan_filenames = sorted(os.listdir(scan_dir))\n",
    "scan_files = [os.path.join(scan_dir, x) for x in scan_filenames]\n",
    "# print(scan_filenames)\n",
    "\n",
    "for idx, scan_filename in enumerate(scan_filenames[20:22]):\n",
    "    scan_file = os.path.join(scan_dir, scan_filename)\n",
    "    scan_dst = os.path.join(debug_path, scan_filename)\n",
    "    map_dst = os.path.join(debug_path, \"map_\" + scan_filename)\n",
    "    print(map_dst)\n",
    "    shutil.copy(scan_file, scan_dst)\n",
    "    \n",
    "    odom = odoms[idx]\n",
    "    radius = 50\n",
    "#     map_pcd = o3d.io.read_point_cloud(map_path)\n",
    "#     map_points = np.asarray(map_pcd.points)0\n",
    "    map_data = read_pc(map_path)\n",
    "    map_points, map_labels = map_data[:, :3], map_data[:, 3]\n",
    "    map_points = map_points[np.sum(np.square(map_points[:, :3] - odom), axis=-1) < radius*radius]\n",
    "    label2color = {0: (1.0, 0.0, 0.0), 1: (0.0, 0.0, 1.0), 2:(0.0, 0.0, 1.0)}\n",
    "    map_colors = np.array([label2color[x] for x in map_labels])\n",
    "    print(\"map_data shape: \", map_data.shape)\n",
    "    print(\"map_points shape: \", map_points.shape)\n",
    "    \n",
    "    pcd = o3d.geometry.PointCloud()\n",
    "    pcd.points = o3d.utility.Vector3dVector(map_points)\n",
    "    pcd.colors = o3d.utility.Vector3dVector(map_colors)\n",
    "    o3d.io.write_point_cloud(map_dst, pcd)\n",
    "    \n",
    "    scan_data = read_pc(scan_file)\n",
    "    scan_points, scan_labels = scan_data[:, :3], scan_data[:, 3]\n",
    "    print(\"scan_data shape: \", scan_data.shape)\n",
    "    print(\"scan_points shape: \", scan_points.shape)\n"
   ]
  },
  {
   "cell_type": "code",
   "execution_count": 43,
   "id": "fbfb52ba",
   "metadata": {},
   "outputs": [],
   "source": [
    "label2color = {0: (1.0, 0.0, 0.0), 1: (0.0, 0.0, 1.0), 2:(0.0, 0.0, 1.0)}"
   ]
  },
  {
   "cell_type": "code",
   "execution_count": 44,
   "id": "a1ef910a",
   "metadata": {},
   "outputs": [],
   "source": [
    "colors = np.array([label2color[x] for x in map_labels])"
   ]
  },
  {
   "cell_type": "code",
   "execution_count": null,
   "id": "d9bc7e5d",
   "metadata": {},
   "outputs": [],
   "source": []
  },
  {
   "cell_type": "code",
   "execution_count": null,
   "id": "f3ffc21d",
   "metadata": {},
   "outputs": [],
   "source": []
  },
  {
   "cell_type": "code",
   "execution_count": null,
   "id": "4d4ddffa",
   "metadata": {},
   "outputs": [],
   "source": [
    "# # save scan npy data\n",
    "# for seq in seqs:\n",
    "#     scan_dir = os.path.join(root_path, \"testing_data\", seq, \"global/scan/\")\n",
    "# #     new_scan_dir = os.path.join(root_path, \"testing_data\", seq, \"global_npz\")\n",
    "#     odom_path = os.path.join(root_path, \"testing_data\", seq, \"odom/scan/odometry.txt\")\n",
    "#     odoms = get_pose(odom_path)\n",
    "# #     if not os.path.exists(new_scan_dir):\n",
    "# #         os.makedirs(new_scan_dir)\n",
    "#         # os.makedirs(os.path.join(new_scan_dir, \"scan\"))\n",
    "#         # new_scan_dir = os.path.join(new_scan_dir, \"scan\")\n",
    "#     scan_filenames = os.listdir(scan_dir)\n",
    "#     scan_files = [os.path.join(scan_dir, x) for x in scan_filenames]\n",
    "#     dummy = scan_files\n",
    "#     for idx, scan_filename in enumerate(scan_filenames):\n",
    "#         scan_file = os.path.join(scan_dir, scan_filename)\n",
    "#         dst = os.apth.join(debug_path, scan_filename)\n",
    "#         shutil.copy(scan_file, dst)\n",
    "#         points = read_pc(scan_file)\n",
    "#         odom = odoms[idx]\n",
    "#         new_scan_file = os.path.join(new_scan_dir, scan_filename[:-4].zfill(6))\n",
    "#         np.savez(new_scan_file, points, odom)\n",
    "#         # np.save(new_scan_file, points)"
   ]
  }
 ],
 "metadata": {
  "kernelspec": {
   "display_name": "Python 3",
   "language": "python",
   "name": "python3"
  },
  "language_info": {
   "codemirror_mode": {
    "name": "ipython",
    "version": 3
   },
   "file_extension": ".py",
   "mimetype": "text/x-python",
   "name": "python",
   "nbconvert_exporter": "python",
   "pygments_lexer": "ipython3",
   "version": "3.6.9"
  }
 },
 "nbformat": 4,
 "nbformat_minor": 5
}
