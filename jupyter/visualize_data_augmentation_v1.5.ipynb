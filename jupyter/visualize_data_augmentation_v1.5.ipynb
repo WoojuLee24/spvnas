{
 "cells": [
  {
   "cell_type": "code",
   "execution_count": 1,
   "id": "fc7879f5",
   "metadata": {},
   "outputs": [],
   "source": [
    "import open3d as o3d\n",
    "import numpy as np\n",
    "from open3d.j_visualizer import JVisualizer"
   ]
  },
  {
   "cell_type": "code",
   "execution_count": 2,
   "id": "3a391a85",
   "metadata": {},
   "outputs": [],
   "source": [
    "import os\n",
    "import os.path\n",
    "import shutil\n",
    "\n",
    "import numpy as np\n",
    "from torchsparse import SparseTensor\n",
    "from torchsparse.utils.collate import sparse_collate_fn\n",
    "from torchsparse.utils.quantize import sparse_quantize\n",
    "\n",
    "from sklearn.neighbors import KDTree"
   ]
  },
  {
   "cell_type": "code",
   "execution_count": 18,
   "id": "43e5dd25",
   "metadata": {},
   "outputs": [],
   "source": [
    "class ErasorCarlaInternal:\n",
    "\n",
    "    def __init__(self,\n",
    "                 root,\n",
    "                 voxel_size,\n",
    "                 num_points,\n",
    "                 visualize,\n",
    "                 split,\n",
    "                 proposal=False,\n",
    "                 sample_stride=1,\n",
    "                 submit=False,\n",
    "                 google_mode=True,\n",
    "                 window=10,\n",
    "                 radius=50,\n",
    "                 neighbor_k=0,\n",
    "                 thres=0.02,\n",
    "                 save_npy=False,\n",
    "                 index=None):\n",
    "        \n",
    "        self.root = root\n",
    "        self.split = split\n",
    "        self.proposal = proposal\n",
    "        self.submit = submit\n",
    "        self.google_mode = google_mode\n",
    "        self.visualize = visualize\n",
    "        self.save_npy = save_npy # only in jupyter\n",
    "        self.index = index # only in jupyter\n",
    "\n",
    "        self.voxel_size = voxel_size\n",
    "        self.num_points = num_points\n",
    "        self.sample_stride = sample_stride\n",
    "        self.window = window\n",
    "        self.radius = radius\n",
    "        self.neighbor_k = neighbor_k\n",
    "        self.thres = thres\n",
    "        \n",
    "        self.seqs = []\n",
    "        \n",
    "        if split == 'train':\n",
    "            self.seqs = [\n",
    "               'scenario2', 'scenario3', 'scenario5', 'scenario6', 'scenario8'\n",
    "            ]\n",
    "\n",
    "        elif self.split == 'val':\n",
    "            self.seqs = [\n",
    "               'scenario2', 'scenario3', 'scenario5', 'scenario6', 'scenario8'\n",
    "            ]\n",
    "\n",
    "        elif self.split == 'test':\n",
    "            self.seqs = [\n",
    "               'scenario2', 'scenario3', 'scenario5', 'scenario6', 'scenario8'\n",
    "            ]\n",
    "\n",
    "        self.map_files = dict()\n",
    "        self.scan_files = []\n",
    "\n",
    "        # get scan and map data list\n",
    "        for seq in self.seqs:\n",
    "            self.map_files[seq] = os.path.join(self.root, 'testing_map/v0.1', seq, 'map.npy')\n",
    "            seq_files = sorted(os.listdir(os.path.join(self.root, 'testing_data', seq, 'global_npz')))\n",
    "            seq_files = seq_files[(self.window + 1) // 2 - 1: - (1 + self.window // 2) ]\n",
    "            seq_files = [os.path.join(self.root, 'testing_data', seq, 'global_npz', x) for x in seq_files]\n",
    "            self.scan_files.extend(seq_files)\n",
    "\n",
    "        # get map_data\n",
    "        self.map = dict()\n",
    "        for seq, map_file in self.map_files.items():\n",
    "            map_ = np.load(map_file)\n",
    "            # get pesudo label with ERASOR\n",
    "            \"\"\"\n",
    "            def get_pseudo_label(self, map_, block_multi, **kwargs):\n",
    "                # return dynamic and static labels of map\n",
    "                return map_[:, 3]\n",
    "            pseudo_label = self.get_pseudo_label(map_, block_multi, **kwargs)\n",
    "            \"\"\"\n",
    "            self.map[seq] = map_.astype(np.float32)\n",
    "\n",
    "        if self.sample_stride > 1:\n",
    "            self.scan_files = self.scan_files[::self.sample_stride]\n",
    "    \n",
    "\n",
    "        self.num_classes = 2\n",
    "        self.angle = 0.0\n",
    "    \n",
    "    def revise_dynamic_points(self, points, labels, thres):\n",
    "        labels[(labels != 0) & (points[:, 2] < thres)] = 0\n",
    "        return labels\n",
    "    \n",
    "    def concatenate_scans(self, index):\n",
    "        scan = np.load(self.scan_files[index])\n",
    "        odom = scan['arr_1'].astype(np.float32)\n",
    "\n",
    "        file_name = os.path.basename(self.scan_files[index])\n",
    "        file_dir = os.path.dirname(self.scan_files[index])\n",
    "        file_name_wo_ext = os.path.splitext(file_name)[0]\n",
    "        file_int = int(file_name_wo_ext)\n",
    "        file_int_list = list(range(file_int - (self.window + 1) // 2 + 1, file_int + self.window // 2 + 1, 1))\n",
    "        file_str_list = [file_dir + \"/\" + str(i).zfill(6) + \".npz\" for i in file_int_list]\n",
    "        block_ = []\n",
    "        for file in file_str_list:\n",
    "            scan_ = np.load(file)\n",
    "            block_single = scan_['arr_0'].astype(np.float32)\n",
    "            block_.extend(block_single)\n",
    "        block_ = np.asarray(block_)\n",
    "        # radius search w.r.t the odom of scan data\n",
    "#         block_ = block_[np.sum(np.square(block_[:, :2] - odom[:2]), axis=-1) < self.radius*self.radius]\n",
    "        block_ = block_[np.sum(np.square(block_[:, :3] - odom), axis=-1) < self.radius*self.radius]\n",
    "        \n",
    "        print(\"radius; concatenated scan: \", np.shape(block_))\n",
    "        \n",
    "        return block_, odom\n",
    "    \n",
    "\n",
    "    def set_angle(self, angle):\n",
    "        self.angle = angle\n",
    "\n",
    "    def __len__(self):\n",
    "        return len(self.scan_files)\n",
    "\n",
    "    def __getitem__(self, index):\n",
    "        \n",
    "        if self.index is not None:\n",
    "            index = self.index\n",
    "        \n",
    "        # get scan_data\n",
    "        if self.window == 1:\n",
    "            scan = np.load(self.scan_files[index])\n",
    "            block_ = scan['arr_0'].astype(np.float32)\n",
    "            odom = scan['arr_1'].astype(np.float32)\n",
    "        else:\n",
    "            # concatenate the scan data with window size\n",
    "            block_, odom = self.concatenate_scans(index)\n",
    "        \n",
    "        # get map_data\n",
    "        scenario = self.scan_files[index]\n",
    "        scenario = scenario.split(\"/\")[-3]\n",
    "        map_ = self.map[scenario]\n",
    "        print(\"orignal; map point len: \", np.shape(map_[:, 3]))\n",
    "        print(\"orignal; map point element: \", np.unique(map_[:, 3]))\n",
    "        \n",
    "        scan = np.load(self.scan_files[index])\n",
    "        odom_ = scan['arr_1'].astype(np.float32)\n",
    "        print(\"odom: \", odom)\n",
    "        print(\"odom_: \", odom_)\n",
    "            \n",
    "        \n",
    "        # radius search w.r.t the odom of scan data\n",
    "        map_ = map_[np.sum(np.square(map_[:, :3] - odom), axis=-1) < self.radius*self.radius]\n",
    "#         map_ = map_[np.sum(np.square(map_[:, :2] - odom[:2]), axis=-1) < self.radius*self.radius]\n",
    "        print(\"odom: \", odom)\n",
    "        print(\"radius; map points len: \", np.shape(map_))\n",
    "        print(\"radius; map point element: \", np.unique(map_[:, 3]))\n",
    "\n",
    "                        \n",
    "        # save npy\n",
    "        if self.save_npy:\n",
    "            self.save_npy(map_, odom)         \n",
    "        \n",
    "        block = np.zeros_like(block_)\n",
    "        map = np.zeros_like(map_)\n",
    "        \n",
    "\n",
    "        if 'train' in self.split:\n",
    "            # data augmentation on the train dataset: off in the ipynb\n",
    "            theta = np.random.uniform(0, 2 * np.pi)\n",
    "            scale_factor = np.random.uniform(0.95, 1.05)\n",
    "            rot_mat = np.array([[np.cos(theta), np.sin(theta), 0],\n",
    "                                [-np.sin(theta),\n",
    "                                 np.cos(theta), 0], [0, 0, 1]])\n",
    "\n",
    "            block[:, :3] = np.dot(block_[:, :3], rot_mat) * scale_factor\n",
    "            map[:, :3] = np.dot(map_[:, :3], rot_mat) * scale_factor\n",
    "#             theta = self.angle\n",
    "#             transform_mat = np.array([[np.cos(theta),\n",
    "#                                        np.sin(theta), 0],\n",
    "#                                       [-np.sin(theta),\n",
    "#                                        np.cos(theta), 0], [0, 0, 1]])\n",
    "#             block[...] = block_[...]\n",
    "#             map[:, :3] = map_[:, :3]\n",
    "\n",
    "        else:\n",
    "#             theta = self.angle\n",
    "#             transform_mat = np.array([[np.cos(theta),\n",
    "#                                        np.sin(theta), 0],\n",
    "#                                       [-np.sin(theta),\n",
    "#                                        np.cos(theta), 0], [0, 0, 1]])\n",
    "#             block[:, :3] = np.dot(block_[:, :3], transform_mat)\n",
    "#             map[:, :3] = np.dot(map_[:, :3], transform_mat)\n",
    "            block[...] = block_[...]\n",
    "            map[:, :3] = map_[:, :3]\n",
    "\n",
    "            \n",
    "        \n",
    "        # parsing the original label to the dynamic label\n",
    "        block[:, 3] = (block_[:, 3] != 0)\n",
    "        map[:, 3:] = (map_[:, 3:] != 0 )\n",
    "        \n",
    "        print(\"radius; transformation; map points len: \", np.shape(map[:]))\n",
    "        print(\"radius; transformation; scan points len: \", np.shape(block))\n",
    "        \n",
    "\n",
    "        \n",
    "        ####################jupyter lab########################\n",
    "        \n",
    "#         # self-supervised dynamic label\n",
    "#         center_x = np.mean(block[:, 0])\n",
    "#         center_y = np.mean(block[:, 1])\n",
    "#         # additional scan point\n",
    "#         region = [center_x+2, center_x+3, center_y-2, center_y+3, 0, 2]\n",
    "#         sspoints_ = np.mgrid[center_x+2:center_x+3:self.voxel_size, center_y-2:center_y+3:self.voxel_size, 0:2:self.voxel_size]\n",
    "#         sspoints = sspoints_.reshape(3, -1).T\n",
    "#         sslabels = np.ones([np.shape(sspoints)[0], 1],)\n",
    "#         ssblock = np.concatenate((sspoints, sslabels), axis=1)\n",
    "#         print(\"map before self-created point cloud shape: \", np.shape(map))\n",
    "#         print(\"self-created point cloud shape: \", np.shape(ssblock))\n",
    "#         map = np.concatenate((map, ssblock), axis=0)\n",
    "#         print(\"map with self-created point cloud shape: \", np.shape(map))\n",
    "                \n",
    "        \n",
    "        ####################jupyter lab########################\n",
    "\n",
    "\n",
    "#         # get point and voxel in the format of sparse torch tensor\n",
    "#         map_data = self.get_point_voxel(map[:, :3], map[:, 3], index)\n",
    "#         scan_data = self.get_point_voxel(block[:, :3], block[:, 3], index)\n",
    "        \n",
    "        # get original point and voxel\n",
    "#         map_data = None\n",
    "#         scan_data = None\n",
    "#         print(np.shape(map))\n",
    "#         points_, labels_, proposals_ = map[:, :3], map[:, 3], map[:, 4]\n",
    "#         pc_ = np.round(points_ / self.voxel_size).astype(np.int32)\n",
    "#         pc_ -= pc_.min(0, keepdims=1)\n",
    "        \n",
    "#         _, inds, inverse_map = sparse_quantize(pc_,\n",
    "#                                                return_index=True,\n",
    "#                                                return_inverse=True)\n",
    "        \n",
    "#         if len(inds) > self.num_points:\n",
    "#                 inds = np.random.choice(inds, self.num_points, replace=False)\n",
    "    \n",
    "#         pc = pc_[inds]\n",
    "#         labels = labels_[inds]\n",
    "        \n",
    "#         if proposals_ is not None:\n",
    "#             proposals = proposals_[inds]\n",
    "#         else:\n",
    "#             proposals = proposals_\n",
    "        \n",
    "        \n",
    "#         return map_data, scan_data\n",
    "#         map_data = self.get_original_point(map[:, :3], map[:, 3], map[:, 4], index)\n",
    "#         scan_data = self.get_original_point(block[:, :3], block[:, 3], None, index)\n",
    "        map_data = self.get_original_point(map[:], index)\n",
    "        print(\"map_data points len: \", np.shape(map_data['pc']))\n",
    "        scan_data = self.get_original_point(block, index)\n",
    "        print(\"scan data points len: \", np.shape(scan_data['pc']))\n",
    "        \n",
    "        # neighbor_k ERASOR points\n",
    "        if self.neighbor_k != 0:\n",
    "            map_data['targets'] = self.propose_near_dynamic_points(map_data['pc'], map_data['targets'], k=self.neighbor_k)\n",
    "        \n",
    "        return map_data, scan_data\n",
    "\n",
    "    @staticmethod\n",
    "    def collate_fn(inputs):\n",
    "        return sparse_collate_fn(inputs)\n",
    "    \n",
    "    def propose_near_dynamic_points(self, points, labels, leaf_size=40, k=10):\n",
    "        \"\"\"propose top k near points from dynamic points\"\"\"\n",
    "        # nearest point search intialization\n",
    "        tree = KDTree(points, leaf_size=leaf_size) \n",
    "        dist, ind = tree.query(points, k=k) \n",
    "        labels[np.unique(ind[labels==1])] = 1 #  index of the top 5 near points from dynamic points -> set -> label the point as dynamic point\n",
    "        \n",
    "        return labels\n",
    "    \n",
    "    \n",
    "    def get_original_point(self, points, index):\n",
    "        # points_ -> pc_ -> pc, labels_ -> labels, proposals_ -> proposals\n",
    "        if np.shape(points)[-1] == 6: \n",
    "            points_, labels_, proposals_ = points[:, :3], points[:, 3], points[:, 4]\n",
    "        elif np.shape(points)[-1] == 4:\n",
    "            points_, labels_, proposals_ = points[:, :3], points[:, 3], None\n",
    "        \n",
    "        pc_ = np.round(points_ / self.voxel_size).astype(np.int32)\n",
    "        pc_ -= pc_.min(0, keepdims=1)\n",
    "        print(\"minimum pc: \", pc_.min(0, keepdims=1))\n",
    "        \n",
    "        _, inds, inverse_map = sparse_quantize(pc_,\n",
    "                                               return_index=True,\n",
    "                                               return_inverse=True)\n",
    "        \n",
    "        if len(inds) > self.num_points:\n",
    "                inds = np.random.choice(inds, self.num_points, replace=False)\n",
    "    \n",
    "        pc = pc_[inds]\n",
    "        labels = labels_[inds]\n",
    "        \n",
    "#         print(\"compare pc_ and pc: \", np.array_equal(pc_, pc)\n",
    "\n",
    "                      \n",
    "        if proposals_ is not None:\n",
    "            proposals = proposals_[inds]\n",
    "        else:\n",
    "            proposals = proposals_        \n",
    "        \n",
    "        feed_dict = {\n",
    "            'points_': points_,\n",
    "            'pc_': pc_,\n",
    "            'pc': pc,\n",
    "            'targets_': labels_,\n",
    "            'targets': labels,\n",
    "            'proposals_': proposals_,\n",
    "            'proposals': proposals,\n",
    "            'file_name': self.scan_files[index],\n",
    "            'inds': inds,\n",
    "            'inverse_map': inverse_map,\n",
    "        }\n",
    "        return feed_dict\n",
    "    \n",
    "    \n",
    "    def get_point_voxel(self, block, labels_, index):\n",
    "        pc_ = np.round(block[:, :3] / self.voxel_size).astype(np.int32)\n",
    "        pc_ -= pc_.min(0, keepdims=1)\n",
    "\n",
    "        feat_ = block\n",
    "\n",
    "        _, inds, inverse_map = sparse_quantize(pc_,\n",
    "                                               return_index=True,\n",
    "                                               return_inverse=True)\n",
    "\n",
    "        if 'train' in self.split:\n",
    "            if len(inds) > self.num_points:\n",
    "                inds = np.random.choice(inds, self.num_points, replace=False)\n",
    "\n",
    "        pc = pc_[inds]\n",
    "        feat = feat_[inds]\n",
    "        labels = labels_[inds]\n",
    "        lidar = SparseTensor(feat, pc)\n",
    "        labels = SparseTensor(labels, pc)\n",
    "        labels_ = SparseTensor(labels_, pc_)\n",
    "        inverse_map = SparseTensor(inverse_map, pc_)\n",
    "\n",
    "        if self.visualize == False:\n",
    "            feed_dict = {'lidar': lidar, 'targets': labels, 'targets_mapped': labels_, 'inverse_map': inverse_map, 'file_name': self.scan_files[index]}\n",
    "\n",
    "        else:\n",
    "            feed_dict = {'pc': block[:, :3], 'label': labels_, 'lidar': lidar, 'targets_mapped': labels_, 'inverse_map': inverse_map, 'file_name': self.scan_files[index]}\n",
    "\n",
    "        return feed_dict"
   ]
  },
  {
   "cell_type": "code",
   "execution_count": 19,
   "id": "aa00e266",
   "metadata": {},
   "outputs": [],
   "source": [
    "root = \"/ws/data/erasor_carla/carla_v0.1\"\n",
    "voxel_size = 0.1\n",
    "num_points = 180000\n",
    "visualize = True\n",
    "sample_stride = 1\n",
    "split = \"val\"\n",
    "proposal = None\n",
    "submit = True\n",
    "window = 10\n",
    "save_npy = False\n",
    "index = 230\n",
    "radius = 50\n",
    "neighbor_k = 0"
   ]
  },
  {
   "cell_type": "code",
   "execution_count": 20,
   "id": "15d641ac",
   "metadata": {
    "scrolled": true
   },
   "outputs": [],
   "source": [
    "dataset = ErasorCarlaInternal(root, voxel_size, num_points, visualize, split, proposal, submit, window=window, radius=radius, neighbor_k=neighbor_k,index=index )"
   ]
  },
  {
   "cell_type": "code",
   "execution_count": 21,
   "id": "70131fe2",
   "metadata": {
    "scrolled": false
   },
   "outputs": [
    {
     "name": "stdout",
     "output_type": "stream",
     "text": [
      "radius; concatenated scan:  (1165117, 4)\n",
      "orignal; map point len:  (3597868,)\n",
      "orignal; map point element:  [0. 2.]\n",
      "odom:  [-8.8699127e+01  1.3943161e+02 -2.2663999e-02]\n",
      "odom_:  [-8.8699127e+01  1.3943161e+02 -2.2663999e-02]\n",
      "odom:  [-8.8699127e+01  1.3943161e+02 -2.2663999e-02]\n",
      "radius; map points len:  (178205, 4)\n",
      "radius; map point element:  [0. 2.]\n",
      "radius; transformation; map points len:  (178205, 4)\n",
      "radius; transformation; scan points len:  (1165117, 4)\n",
      "minimum pc:  [[0 0 0]]\n",
      "map_data points len:  (66070, 3)\n",
      "minimum pc:  [[0 0 0]]\n",
      "scan data points len:  (180000, 3)\n"
     ]
    }
   ],
   "source": [
    "map_data, scan_data = next(iter(dataset))"
   ]
  },
  {
   "cell_type": "code",
   "execution_count": 22,
   "id": "3d88ca4f",
   "metadata": {},
   "outputs": [],
   "source": [
    "def visualize_points(points, labels, label2color):\n",
    "    points = (points - points.mean()) / points.std()\n",
    "    colors = np.array([label2color[x] for x in labels])\n",
    "    pcd = o3d.geometry.PointCloud()\n",
    "    pcd.points = o3d.utility.Vector3dVector(points)\n",
    "    pcd.colors = o3d.utility.Vector3dVector(colors)\n",
    "    visualizer = JVisualizer()\n",
    "    visualizer.add_geometry(pcd)\n",
    "    visualizer.show()\n",
    "\n",
    "def save_points(points, labels, label2color, path):\n",
    "#     points = (points - points.mean()) / points.std()\n",
    "    colors = np.array([label2color[x] for x in labels])\n",
    "    pcd = o3d.geometry.PointCloud()\n",
    "    pcd.points = o3d.utility.Vector3dVector(points)\n",
    "    pcd.colors = o3d.utility.Vector3dVector(colors)\n",
    "    o3d.io.write_point_cloud(path, pcd)\n"
   ]
  },
  {
   "cell_type": "code",
   "execution_count": 23,
   "id": "98d07aa4",
   "metadata": {},
   "outputs": [],
   "source": [
    "label2color = {0: (1.0, 0.0, 0.0), 1: (0.0, 0.0, 1.0), 2:(0.0, 0.0, 1.0)}\n",
    "mpoints = map_data['pc']\n",
    "mlabels = map_data['targets']\n",
    "mproposals = map_data['proposals']\n",
    "\n",
    "label2color = {0: (1.0, 0.0, 0.0), 1: (0.0, 0.0, 1.0), 2:(0.0, 0.0, 1.0)}\n",
    "points = scan_data['pc']\n",
    "labels = scan_data['targets']"
   ]
  },
  {
   "cell_type": "code",
   "execution_count": 24,
   "id": "767f3890",
   "metadata": {},
   "outputs": [],
   "source": [
    "path = \"/ws/data/erasor_carla/debug/v0.1_map_radius.pcd\"\n",
    "save_points(mpoints, mlabels, label2color, path)"
   ]
  },
  {
   "cell_type": "code",
   "execution_count": 25,
   "id": "483bc6a1",
   "metadata": {},
   "outputs": [],
   "source": [
    "path = \"/ws/data/erasor_carla/debug/v0.1_scan_radius.pcd\"\n",
    "save_points(points, labels, label2color, path)"
   ]
  },
  {
   "cell_type": "code",
   "execution_count": null,
   "id": "57426597",
   "metadata": {},
   "outputs": [],
   "source": []
  },
  {
   "cell_type": "code",
   "execution_count": 46,
   "id": "1a24f803",
   "metadata": {
    "scrolled": true
   },
   "outputs": [
    {
     "data": {
      "application/vnd.jupyter.widget-view+json": {
       "model_id": "4278996d07d0444a8fdd5548c1d46795",
       "version_major": 2,
       "version_minor": 0
      },
      "text/plain": [
       "JVisualizer with 1 geometries"
      ]
     },
     "metadata": {},
     "output_type": "display_data"
    }
   ],
   "source": [
    "visualize_points(mpoints, mlabels, label2color)"
   ]
  },
  {
   "cell_type": "code",
   "execution_count": 21,
   "id": "e1d113a3",
   "metadata": {},
   "outputs": [
    {
     "data": {
      "application/vnd.jupyter.widget-view+json": {
       "model_id": "6a513a4384ab47489212049fe6cad644",
       "version_major": 2,
       "version_minor": 0
      },
      "text/plain": [
       "JVisualizer with 1 geometries"
      ]
     },
     "metadata": {},
     "output_type": "display_data"
    }
   ],
   "source": [
    "visualize_points(mpoints, mproposals, label2color)"
   ]
  },
  {
   "cell_type": "code",
   "execution_count": null,
   "id": "6929bacc",
   "metadata": {},
   "outputs": [],
   "source": []
  },
  {
   "cell_type": "code",
   "execution_count": 10,
   "id": "fc11776e",
   "metadata": {},
   "outputs": [],
   "source": [
    "# visualize_points(mpoints, mproposals, label2color)\n",
    "save_points(mpoints, mproposals, label2color, \"/ws/data/erasor_carla/debug/mpoints.pcd\")"
   ]
  },
  {
   "cell_type": "code",
   "execution_count": 9,
   "id": "9fd5e593",
   "metadata": {},
   "outputs": [
    {
     "data": {
      "application/vnd.jupyter.widget-view+json": {
       "model_id": "55aa822dd5234d73bb569010491bbe1f",
       "version_major": 2,
       "version_minor": 0
      },
      "text/plain": [
       "JVisualizer with 1 geometries"
      ]
     },
     "metadata": {},
     "output_type": "display_data"
    }
   ],
   "source": []
  },
  {
   "cell_type": "code",
   "execution_count": null,
   "id": "9f73b46b",
   "metadata": {},
   "outputs": [],
   "source": []
  },
  {
   "cell_type": "code",
   "execution_count": 86,
   "id": "04d38264",
   "metadata": {},
   "outputs": [
    {
     "data": {
      "application/vnd.jupyter.widget-view+json": {
       "model_id": "a07066b0abe74c8db14de7392d3f6ff4",
       "version_major": 2,
       "version_minor": 0
      },
      "text/plain": [
       "JVisualizer with 1 geometries"
      ]
     },
     "metadata": {},
     "output_type": "display_data"
    }
   ],
   "source": [
    "visualize_points(points, labels, label2color)"
   ]
  },
  {
   "cell_type": "code",
   "execution_count": null,
   "id": "fc39c0d5",
   "metadata": {},
   "outputs": [],
   "source": []
  },
  {
   "cell_type": "code",
   "execution_count": 22,
   "id": "4f574a4e",
   "metadata": {},
   "outputs": [],
   "source": [
    "label2color = {0: (1.0, 0.0, 0.0), 1: (0.0, 0.0, 1.0), 2:(0.0, 0.0, 1.0)}\n",
    "points = scan_data['pc']\n",
    "labels = scan_data['targets']"
   ]
  },
  {
   "cell_type": "code",
   "execution_count": 23,
   "id": "ee3231dc",
   "metadata": {},
   "outputs": [
    {
     "data": {
      "text/plain": [
       "array([[1174,  981,   14],\n",
       "       [ 931, 1334,   14],\n",
       "       [1039, 1029,   12],\n",
       "       ...,\n",
       "       [1136, 1021,   12],\n",
       "       [1091, 1172,   14],\n",
       "       [1280, 1127,   14]], dtype=int32)"
      ]
     },
     "execution_count": 23,
     "metadata": {},
     "output_type": "execute_result"
    }
   ],
   "source": [
    "points"
   ]
  },
  {
   "cell_type": "code",
   "execution_count": 24,
   "id": "a1636ae6",
   "metadata": {},
   "outputs": [
    {
     "data": {
      "text/plain": [
       "array([[   0, 2823,    0],\n",
       "       [   0, 2824,    0],\n",
       "       [   0, 2825,    0],\n",
       "       ...,\n",
       "       [ 499,   78,   56],\n",
       "       [ 499,   81,   56],\n",
       "       [ 499,   82,   56]], dtype=int32)"
      ]
     },
     "execution_count": 24,
     "metadata": {},
     "output_type": "execute_result"
    }
   ],
   "source": [
    "mpoints"
   ]
  },
  {
   "cell_type": "code",
   "execution_count": 13,
   "id": "036fd858",
   "metadata": {},
   "outputs": [
    {
     "data": {
      "text/plain": [
       "326.93422407407405"
      ]
     },
     "execution_count": 13,
     "metadata": {},
     "output_type": "execute_result"
    }
   ],
   "source": [
    "visualize_points(points, labels, label2color)"
   ]
  },
  {
   "cell_type": "code",
   "execution_count": null,
   "id": "a7892c56",
   "metadata": {},
   "outputs": [],
   "source": []
  },
  {
   "cell_type": "code",
   "execution_count": null,
   "id": "5c433024",
   "metadata": {},
   "outputs": [],
   "source": []
  },
  {
   "cell_type": "code",
   "execution_count": null,
   "id": "87c4ef6d",
   "metadata": {},
   "outputs": [],
   "source": []
  },
  {
   "cell_type": "code",
   "execution_count": null,
   "id": "eab0b5f1",
   "metadata": {},
   "outputs": [],
   "source": []
  },
  {
   "cell_type": "code",
   "execution_count": 9,
   "id": "643a027d",
   "metadata": {},
   "outputs": [],
   "source": [
    "mpoints = map_data['pc']\n",
    "mlabels = map_data['targets']"
   ]
  },
  {
   "cell_type": "code",
   "execution_count": 10,
   "id": "531a245a",
   "metadata": {},
   "outputs": [
    {
     "data": {
      "text/plain": [
       "(180000,)"
      ]
     },
     "execution_count": 10,
     "metadata": {},
     "output_type": "execute_result"
    }
   ],
   "source": [
    "center_x = np.mean(mpoints[:, 0])\n",
    "center_y = np.mean(mpoints[:, 1])\n",
    "region = [center_x+2, center_x+3, center_y-2, center_y+3, 0, 2]\n",
    "mlabels.shape"
   ]
  },
  {
   "cell_type": "code",
   "execution_count": 11,
   "id": "1924df41",
   "metadata": {},
   "outputs": [
    {
     "data": {
      "text/plain": [
       "(180000, 3)"
      ]
     },
     "execution_count": 11,
     "metadata": {},
     "output_type": "execute_result"
    }
   ],
   "source": [
    "mpoints.shape"
   ]
  },
  {
   "cell_type": "code",
   "execution_count": 12,
   "id": "387d6dc2",
   "metadata": {},
   "outputs": [],
   "source": [
    "x_range = (region[0] < mpoints[:, 0]) & (region[1] > mpoints[:, 0])\n",
    "y_range = (region[2] < mpoints[:, 1]) & (region[3] > mpoints[:, 1])\n",
    "z_range = (region[4] < mpoints[:, 2]) & (region[5] > mpoints[:, 2])\n",
    "# mpoints_region_idx = np.where((region[0] < mpoints[:, 0]) & (region[1] > mpoints[:, 0]) & (region[2] < mpoints[:, 1]) & (region[3] > mpoints[:, 1]) & (region[4] < mpoints[:, 2]) & (region[5] > mpoints[:, 2]))\n",
    "mpoints_region_idx = np.where(x_range)"
   ]
  },
  {
   "cell_type": "code",
   "execution_count": 13,
   "id": "7c3d8906",
   "metadata": {},
   "outputs": [
    {
     "data": {
      "text/plain": [
       "(1, 254)"
      ]
     },
     "execution_count": 13,
     "metadata": {},
     "output_type": "execute_result"
    }
   ],
   "source": [
    "np.shape(mpoints_region_idx)"
   ]
  },
  {
   "cell_type": "code",
   "execution_count": 14,
   "id": "f3259cac",
   "metadata": {},
   "outputs": [
    {
     "data": {
      "text/plain": [
       "array([False, False, False, ..., False, False, False])"
      ]
     },
     "execution_count": 14,
     "metadata": {},
     "output_type": "execute_result"
    }
   ],
   "source": [
    "x_range"
   ]
  },
  {
   "cell_type": "code",
   "execution_count": 15,
   "id": "60cf1cbb",
   "metadata": {},
   "outputs": [
    {
     "data": {
      "text/plain": [
       "array([], shape=(0, 3), dtype=int32)"
      ]
     },
     "execution_count": 15,
     "metadata": {},
     "output_type": "execute_result"
    }
   ],
   "source": [
    "mpoints[x_range & y_range & z_range]"
   ]
  },
  {
   "cell_type": "code",
   "execution_count": 16,
   "id": "4b7cad57",
   "metadata": {},
   "outputs": [
    {
     "data": {
      "text/plain": [
       "array([851, 531,  37], dtype=int32)"
      ]
     },
     "execution_count": 16,
     "metadata": {},
     "output_type": "execute_result"
    }
   ],
   "source": [
    "static_mpoints = mpoints[(mlabels==0) & (mpoints[:, 2] > 20)]\n",
    "random_point = np.random.randint(0, np.shape(static_mpoints)[0])\n",
    "static_mpoints[random_point]"
   ]
  },
  {
   "cell_type": "code",
   "execution_count": 17,
   "id": "5c15bfa2",
   "metadata": {},
   "outputs": [
    {
     "data": {
      "text/plain": [
       "array([[387, 627,  37],\n",
       "       [242, 469,  23],\n",
       "       [182, 461,  35],\n",
       "       ...,\n",
       "       [384, 584,  40],\n",
       "       [367, 538,  30],\n",
       "       [258, 231,  39]], dtype=int32)"
      ]
     },
     "execution_count": 17,
     "metadata": {},
     "output_type": "execute_result"
    }
   ],
   "source": [
    "static_mpoints"
   ]
  },
  {
   "cell_type": "code",
   "execution_count": null,
   "id": "98920a58",
   "metadata": {},
   "outputs": [],
   "source": []
  },
  {
   "cell_type": "code",
   "execution_count": 18,
   "id": "b4d4867e",
   "metadata": {},
   "outputs": [],
   "source": [
    "points = scan_data['pc']\n",
    "labels = scan_data['targets']"
   ]
  },
  {
   "cell_type": "code",
   "execution_count": 19,
   "id": "889c3064",
   "metadata": {},
   "outputs": [],
   "source": [
    "def visualize_points(points, labels, label2color):\n",
    "    points = (points - points.mean()) / points.std()\n",
    "    colors = np.array([label2color[x] for x in labels])\n",
    "    pcd = o3d.geometry.PointCloud()\n",
    "    pcd.points = o3d.utility.Vector3dVector(points)\n",
    "    pcd.colors = o3d.utility.Vector3dVector(colors)\n",
    "    visualizer = JVisualizer()\n",
    "    visualizer.add_geometry(pcd)\n",
    "    visualizer.show()\n",
    "\n",
    "def save_points(points, labels, label2color, path):\n",
    "    points = (points - points.mean()) / points.std()\n",
    "    colors = np.array([label2color[x] for x in labels])\n",
    "    pcd = o3d.geometry.PointCloud()\n",
    "    pcd.points = o3d.utility.Vector3dVector(points)\n",
    "    pcd.colors = o3d.utility.Vector3dVector(colors)\n",
    "    o3d.io.write_point_cloud(path, pcd)"
   ]
  },
  {
   "cell_type": "code",
   "execution_count": 20,
   "id": "a08d8a24",
   "metadata": {},
   "outputs": [],
   "source": [
    "label2color = {0: (1.0, 0.0, 0.0), 1: (0.0, 0.0, 1.0), 2:(0.0, 0.0, 1.0)}"
   ]
  },
  {
   "cell_type": "code",
   "execution_count": 21,
   "id": "4c90a91d",
   "metadata": {},
   "outputs": [
    {
     "data": {
      "text/plain": [
       "(18859,)"
      ]
     },
     "execution_count": 21,
     "metadata": {},
     "output_type": "execute_result"
    }
   ],
   "source": [
    "mlabels[mlabels==1].shape"
   ]
  },
  {
   "cell_type": "code",
   "execution_count": 22,
   "id": "617d4a98",
   "metadata": {},
   "outputs": [],
   "source": [
    "# visualize_points(mpoints, mlabels, label2color)"
   ]
  },
  {
   "cell_type": "code",
   "execution_count": 89,
   "id": "c516fa3c",
   "metadata": {},
   "outputs": [],
   "source": [
    "path = \"/ws/data/erasor_carla/carla_dataset/figure/v0.2/map_index{}_w10_enlarge_gt_ss.pcd\".format(index)\n",
    "save_points(mpoints, mlabels, label2color, path)"
   ]
  },
  {
   "cell_type": "code",
   "execution_count": 46,
   "id": "4c64904d",
   "metadata": {},
   "outputs": [],
   "source": [
    "path = \"/ws/data/erasor_carla/carla_dataset/figure/v0.2/map_index{}_w10_gt.pcd\".format(index)\n",
    "save_points(mpoints, mlabels, label2color, path)"
   ]
  },
  {
   "cell_type": "code",
   "execution_count": 47,
   "id": "ab9ea7fb",
   "metadata": {},
   "outputs": [],
   "source": [
    "\n",
    "tree = KDTree(mpoints, leaf_size=40) # nearest point search intialization\n",
    "dist, ind = tree.query(mpoints, k=5) # search top 5 near points and return distance and index\n",
    "mlabels[np.unique(ind[mlabels==1])] = 1 #  index of the top 5 near points from dynamic points -> set -> label the point as dynamic point"
   ]
  },
  {
   "cell_type": "code",
   "execution_count": 48,
   "id": "13dafe63",
   "metadata": {},
   "outputs": [
    {
     "data": {
      "text/plain": [
       "(17620,)"
      ]
     },
     "execution_count": 48,
     "metadata": {},
     "output_type": "execute_result"
    }
   ],
   "source": [
    "mlabels[mlabels==1].shape"
   ]
  },
  {
   "cell_type": "code",
   "execution_count": 49,
   "id": "28802113",
   "metadata": {},
   "outputs": [],
   "source": [
    "path = \"/ws/data/erasor_carla/carla_dataset/figure/v0.2/map_index{}_w10_enlarge_gt.pcd\".format(index)\n",
    "save_points(mpoints, mlabels, label2color, path)"
   ]
  },
  {
   "cell_type": "code",
   "execution_count": null,
   "id": "4a8e1457",
   "metadata": {},
   "outputs": [],
   "source": [
    "# visualize_points(mpoints, mlabels, label2color)"
   ]
  },
  {
   "cell_type": "code",
   "execution_count": null,
   "id": "29accfc0",
   "metadata": {},
   "outputs": [],
   "source": []
  },
  {
   "cell_type": "code",
   "execution_count": 179,
   "id": "c660e1f5",
   "metadata": {},
   "outputs": [
    {
     "data": {
      "application/vnd.jupyter.widget-view+json": {
       "model_id": "b26c37f4186e4a69b2cdfa9f146d27e4",
       "version_major": 2,
       "version_minor": 0
      },
      "text/plain": [
       "JVisualizer with 1 geometries"
      ]
     },
     "metadata": {},
     "output_type": "display_data"
    }
   ],
   "source": [
    "visualize_points(mpoints, mlabels, label2color)"
   ]
  },
  {
   "cell_type": "code",
   "execution_count": 72,
   "id": "af296dbc",
   "metadata": {},
   "outputs": [],
   "source": [
    "points_ = scan_data['pc']\n",
    "labels = scan_data['targets']\n",
    "orig_points = scan_data['pc'][scan_data['inverse_map']]\n",
    "orig_labels = scan_data['targets'][scan_data['inverse_map']]"
   ]
  },
  {
   "cell_type": "code",
   "execution_count": 73,
   "id": "40573949",
   "metadata": {},
   "outputs": [],
   "source": [
    "points = (points_ - points_.mean()) / points_.std()"
   ]
  },
  {
   "cell_type": "code",
   "execution_count": 74,
   "id": "b9522a96",
   "metadata": {},
   "outputs": [
    {
     "data": {
      "text/plain": [
       "(183949,)"
      ]
     },
     "execution_count": 74,
     "metadata": {},
     "output_type": "execute_result"
    }
   ],
   "source": [
    "labels.shape"
   ]
  },
  {
   "cell_type": "code",
   "execution_count": 75,
   "id": "d8a82300",
   "metadata": {},
   "outputs": [],
   "source": [
    "label2color = {0: (1.0, 0.0, 0.0), 1: (0.0, 0.0, 1.0), 2:(0.0, 0.0, 1.0)}\n",
    "colors = np.array([label2color[x] for x in labels])"
   ]
  },
  {
   "cell_type": "code",
   "execution_count": 76,
   "id": "777061fc",
   "metadata": {},
   "outputs": [
    {
     "data": {
      "application/vnd.jupyter.widget-view+json": {
       "model_id": "24d0ca598598489ca95631646709bc79",
       "version_major": 2,
       "version_minor": 0
      },
      "text/plain": [
       "JVisualizer with 1 geometries"
      ]
     },
     "metadata": {},
     "output_type": "display_data"
    }
   ],
   "source": [
    "pcd = o3d.geometry.PointCloud()\n",
    "pcd.points = o3d.utility.Vector3dVector(points)\n",
    "pcd.colors = o3d.utility.Vector3dVector(colors)\n",
    "visualizer = JVisualizer()\n",
    "visualizer.add_geometry(pcd)\n",
    "visualizer.show()"
   ]
  },
  {
   "cell_type": "code",
   "execution_count": 77,
   "id": "e3bbb631",
   "metadata": {},
   "outputs": [
    {
     "data": {
      "text/plain": [
       "(183949, 3)"
      ]
     },
     "execution_count": 77,
     "metadata": {},
     "output_type": "execute_result"
    }
   ],
   "source": [
    "np.shape(points)"
   ]
  },
  {
   "cell_type": "code",
   "execution_count": 78,
   "id": "608d7a32",
   "metadata": {},
   "outputs": [],
   "source": [
    "mpoints_ = map_data['pc']\n",
    "mlabels = map_data['targets']\n",
    "# orig_points = map_data['pc'][map_data['inverse_map']]\n",
    "# orig_labels = map_data['targets'][map_data['inverse_map']]"
   ]
  },
  {
   "cell_type": "code",
   "execution_count": 79,
   "id": "4f312cbb",
   "metadata": {},
   "outputs": [],
   "source": [
    "mpoints = (mpoints_ - mpoints_.mean()) / mpoints_.std()"
   ]
  },
  {
   "cell_type": "code",
   "execution_count": 80,
   "id": "30268d61",
   "metadata": {},
   "outputs": [],
   "source": [
    "label2color = {0: (1.0, 0.0, 0.0), 1: (0.0, 0.0, 1.0), 2:(0.0, 0.0, 1.0)}\n",
    "mcolors = np.array([label2color[x] for x in mlabels])"
   ]
  },
  {
   "cell_type": "code",
   "execution_count": 81,
   "id": "b4207e03",
   "metadata": {
    "scrolled": false
   },
   "outputs": [
    {
     "data": {
      "application/vnd.jupyter.widget-view+json": {
       "model_id": "74621094aae048419b8289b95dfe91fc",
       "version_major": 2,
       "version_minor": 0
      },
      "text/plain": [
       "JVisualizer with 1 geometries"
      ]
     },
     "metadata": {},
     "output_type": "display_data"
    }
   ],
   "source": [
    "pcd = o3d.geometry.PointCloud()\n",
    "pcd.points = o3d.utility.Vector3dVector(mpoints)\n",
    "pcd.colors = o3d.utility.Vector3dVector(mcolors)\n",
    "visualizer = JVisualizer()\n",
    "visualizer.add_geometry(pcd)\n",
    "visualizer.show()"
   ]
  },
  {
   "cell_type": "code",
   "execution_count": null,
   "id": "78183011",
   "metadata": {},
   "outputs": [],
   "source": [
    "tree = KDTree(mpoints, leaf_size=40) # nearest point search intialization\n",
    "dist, ind = tree.query(mpoints, k=5) # search top 5 near points and return distance and index\n",
    "mlabels[np.unique(ind[mlabels==1])] = 1 #  index of the top 5 near points from dynamic points -> set -> label the point as dynamic point"
   ]
  },
  {
   "cell_type": "code",
   "execution_count": null,
   "id": "12ca7f8a",
   "metadata": {},
   "outputs": [],
   "source": []
  },
  {
   "cell_type": "code",
   "execution_count": null,
   "id": "43f47c90",
   "metadata": {},
   "outputs": [],
   "source": []
  },
  {
   "cell_type": "code",
   "execution_count": 82,
   "id": "60766546",
   "metadata": {},
   "outputs": [
    {
     "data": {
      "text/plain": [
       "(240000, 3)"
      ]
     },
     "execution_count": 82,
     "metadata": {},
     "output_type": "execute_result"
    }
   ],
   "source": [
    "np.shape(mpoints)"
   ]
  },
  {
   "cell_type": "code",
   "execution_count": 90,
   "id": "03fa1eea",
   "metadata": {},
   "outputs": [],
   "source": [
    "sspoints_ = np.mgrid[1:3:0.2, 2:6:0.2, 0:2:0.2]\n",
    "sspoints = sspoints_.reshape(3, -1).T\n",
    "sslabels = np.ones([np.shape(sspoints)[0], 1])"
   ]
  },
  {
   "cell_type": "code",
   "execution_count": 44,
   "id": "5dd33be4",
   "metadata": {},
   "outputs": [
    {
     "data": {
      "text/plain": [
       "array([[-1.19546345,  0.59915196, -1.19161234],\n",
       "       [-1.18391013,  0.59530085, -1.19161234],\n",
       "       [-1.17235681,  0.58759864, -1.19161234],\n",
       "       ...,\n",
       "       [ 1.97399681, -0.34822012, -1.01831257],\n",
       "       [ 1.99710345, -0.29045353, -1.01831257],\n",
       "       [ 1.99710345, -0.28660243, -1.01831257]])"
      ]
     },
     "execution_count": 44,
     "metadata": {},
     "output_type": "execute_result"
    }
   ],
   "source": [
    "points"
   ]
  },
  {
   "cell_type": "code",
   "execution_count": 183,
   "id": "79e82247",
   "metadata": {},
   "outputs": [
    {
     "data": {
      "text/plain": [
       "(2000, 3)"
      ]
     },
     "execution_count": 183,
     "metadata": {},
     "output_type": "execute_result"
    }
   ],
   "source": [
    "np.shape(sspoints)"
   ]
  },
  {
   "cell_type": "code",
   "execution_count": 184,
   "id": "04a7b2d2",
   "metadata": {},
   "outputs": [
    {
     "data": {
      "text/plain": [
       "(2000, 1)"
      ]
     },
     "execution_count": 184,
     "metadata": {},
     "output_type": "execute_result"
    }
   ],
   "source": [
    "np.shape(sslabels)"
   ]
  },
  {
   "cell_type": "code",
   "execution_count": 185,
   "id": "7ceeafe0",
   "metadata": {},
   "outputs": [],
   "source": [
    "ssblock = np.concatenate((sspoints, sslabels), axis=1)"
   ]
  },
  {
   "cell_type": "code",
   "execution_count": 162,
   "id": "bd40667a",
   "metadata": {},
   "outputs": [],
   "source": [
    "points = np.concatenate((points, sspoints), axis=0)"
   ]
  },
  {
   "cell_type": "code",
   "execution_count": 164,
   "id": "c7d2c991",
   "metadata": {},
   "outputs": [
    {
     "data": {
      "text/plain": [
       "array([[-1.18889817,  0.44287013, -1.18523127],\n",
       "       [-1.18889817,  0.45387082, -1.18523127],\n",
       "       [-1.18523127,  0.39886739, -1.18523127],\n",
       "       ...,\n",
       "       [ 5.8       ,  4.8       ,  1.4       ],\n",
       "       [ 5.8       ,  4.8       ,  1.6       ],\n",
       "       [ 5.8       ,  4.8       ,  1.8       ]])"
      ]
     },
     "execution_count": 164,
     "metadata": {},
     "output_type": "execute_result"
    }
   ],
   "source": [
    "points"
   ]
  },
  {
   "cell_type": "code",
   "execution_count": null,
   "id": "91a1d347",
   "metadata": {},
   "outputs": [],
   "source": []
  },
  {
   "cell_type": "code",
   "execution_count": null,
   "id": "15072fd8",
   "metadata": {},
   "outputs": [],
   "source": []
  },
  {
   "cell_type": "code",
   "execution_count": null,
   "id": "3b12b6be",
   "metadata": {},
   "outputs": [],
   "source": []
  },
  {
   "cell_type": "code",
   "execution_count": null,
   "id": "bcb83b56",
   "metadata": {},
   "outputs": [],
   "source": []
  },
  {
   "cell_type": "code",
   "execution_count": null,
   "id": "507bf9fd",
   "metadata": {},
   "outputs": [],
   "source": []
  }
 ],
 "metadata": {
  "kernelspec": {
   "display_name": "Python 3",
   "language": "python",
   "name": "python3"
  },
  "language_info": {
   "codemirror_mode": {
    "name": "ipython",
    "version": 3
   },
   "file_extension": ".py",
   "mimetype": "text/x-python",
   "name": "python",
   "nbconvert_exporter": "python",
   "pygments_lexer": "ipython3",
   "version": "3.6.9"
  }
 },
 "nbformat": 4,
 "nbformat_minor": 5
}
